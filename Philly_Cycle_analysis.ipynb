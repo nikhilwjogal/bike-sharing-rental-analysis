{
 "cells": [
  {
   "cell_type": "code",
   "execution_count": 90,
   "metadata": {},
   "outputs": [],
   "source": [
    "import pandas as pd\n",
    "import matplotlib as plt\n",
    "import matplotlib.pyplot as plt\n",
    "import numpy as np\n",
    "from sklearn.model_selection import train_test_split, GridSearchCV\n",
    "from sklearn.impute import SimpleImputer\n",
    "import matplotlib.pyplot as plt \n",
    "from matplotlib import style\n",
    "%matplotlib inline\n",
    "import mpld3\n",
    "\n",
    "from sklearn.preprocessing import MinMaxScaler\n",
    "from sklearn.preprocessing import StandardScaler\n",
    "\n",
    "from sklearn.linear_model import LinearRegression\n",
    "from sklearn.preprocessing import PolynomialFeatures\n",
    "from sklearn.svm import SVR\n",
    "from sklearn.tree import DecisionTreeRegressor\n",
    "from sklearn.ensemble import RandomForestRegressor\n",
    "\n",
    "from sklearn.metrics import r2_score\n",
    "\n",
    "import datetime as dt\n",
    "import calendar\n",
    "\n",
    "import seaborn as sns"
   ]
  },
  {
   "cell_type": "code",
   "execution_count": 28,
   "metadata": {},
   "outputs": [
    {
     "data": {
      "text/html": [
       "<div>\n",
       "<style scoped>\n",
       "    .dataframe tbody tr th:only-of-type {\n",
       "        vertical-align: middle;\n",
       "    }\n",
       "\n",
       "    .dataframe tbody tr th {\n",
       "        vertical-align: top;\n",
       "    }\n",
       "\n",
       "    .dataframe thead th {\n",
       "        text-align: right;\n",
       "    }\n",
       "</style>\n",
       "<table border=\"1\" class=\"dataframe\">\n",
       "  <thead>\n",
       "    <tr style=\"text-align: right;\">\n",
       "      <th></th>\n",
       "      <th>record number</th>\n",
       "      <th>datetime</th>\n",
       "      <th>season</th>\n",
       "      <th>holiday</th>\n",
       "      <th>weather</th>\n",
       "      <th>temp</th>\n",
       "      <th>humidity</th>\n",
       "      <th>windspeed</th>\n",
       "      <th>casual</th>\n",
       "      <th>registered</th>\n",
       "      <th>all_users</th>\n",
       "    </tr>\n",
       "  </thead>\n",
       "  <tbody>\n",
       "    <tr>\n",
       "      <th>0</th>\n",
       "      <td>1</td>\n",
       "      <td>1/14/12 6:00</td>\n",
       "      <td>1</td>\n",
       "      <td>0</td>\n",
       "      <td>1</td>\n",
       "      <td>-2.0</td>\n",
       "      <td>50</td>\n",
       "      <td>0.0</td>\n",
       "      <td>0</td>\n",
       "      <td>5</td>\n",
       "      <td>5</td>\n",
       "    </tr>\n",
       "    <tr>\n",
       "      <th>1</th>\n",
       "      <td>2</td>\n",
       "      <td>7/24/11 4:00</td>\n",
       "      <td>3</td>\n",
       "      <td>0</td>\n",
       "      <td>1</td>\n",
       "      <td>30.0</td>\n",
       "      <td>66</td>\n",
       "      <td>7.0</td>\n",
       "      <td>1</td>\n",
       "      <td>5</td>\n",
       "      <td>6</td>\n",
       "    </tr>\n",
       "    <tr>\n",
       "      <th>2</th>\n",
       "      <td>3</td>\n",
       "      <td>10/9/11 7:00</td>\n",
       "      <td>4</td>\n",
       "      <td>0</td>\n",
       "      <td>1</td>\n",
       "      <td>13.0</td>\n",
       "      <td>86</td>\n",
       "      <td>0.0</td>\n",
       "      <td>18</td>\n",
       "      <td>26</td>\n",
       "      <td>44</td>\n",
       "    </tr>\n",
       "    <tr>\n",
       "      <th>3</th>\n",
       "      <td>4</td>\n",
       "      <td>12/12/12 21:00</td>\n",
       "      <td>4</td>\n",
       "      <td>0</td>\n",
       "      <td>2</td>\n",
       "      <td>6.0</td>\n",
       "      <td>52</td>\n",
       "      <td>17.0</td>\n",
       "      <td>16</td>\n",
       "      <td>186</td>\n",
       "      <td>202</td>\n",
       "    </tr>\n",
       "    <tr>\n",
       "      <th>4</th>\n",
       "      <td>5</td>\n",
       "      <td>6/22/11 13:00</td>\n",
       "      <td>3</td>\n",
       "      <td>0</td>\n",
       "      <td>2</td>\n",
       "      <td>32.0</td>\n",
       "      <td>56</td>\n",
       "      <td>17.0</td>\n",
       "      <td>33</td>\n",
       "      <td>112</td>\n",
       "      <td>145</td>\n",
       "    </tr>\n",
       "  </tbody>\n",
       "</table>\n",
       "</div>"
      ],
      "text/plain": [
       "   record number        datetime  season  holiday  weather  temp  humidity  \\\n",
       "0              1    1/14/12 6:00       1        0        1  -2.0        50   \n",
       "1              2    7/24/11 4:00       3        0        1  30.0        66   \n",
       "2              3    10/9/11 7:00       4        0        1  13.0        86   \n",
       "3              4  12/12/12 21:00       4        0        2   6.0        52   \n",
       "4              5   6/22/11 13:00       3        0        2  32.0        56   \n",
       "\n",
       "   windspeed  casual  registered  all_users  \n",
       "0        0.0       0           5          5  \n",
       "1        7.0       1           5          6  \n",
       "2        0.0      18          26         44  \n",
       "3       17.0      16         186        202  \n",
       "4       17.0      33         112        145  "
      ]
     },
     "execution_count": 28,
     "metadata": {},
     "output_type": "execute_result"
    }
   ],
   "source": [
    "original_data = pd.read_csv('Philly_python_data.csv')\n",
    "original_data.head()"
   ]
  },
  {
   "cell_type": "code",
   "execution_count": 29,
   "metadata": {},
   "outputs": [
    {
     "name": "stdout",
     "output_type": "stream",
     "text": [
      "record number    0\n",
      "datetime         0\n",
      "season           0\n",
      "holiday          0\n",
      "weather          0\n",
      "temp             0\n",
      "humidity         0\n",
      "windspeed        0\n",
      "casual           0\n",
      "registered       0\n",
      "all_users        0\n",
      "dtype: int64\n"
     ]
    }
   ],
   "source": [
    "data = original_data.copy()\n",
    "count_nan = data.isnull().sum()\n",
    "print(count_nan)"
   ]
  },
  {
   "cell_type": "markdown",
   "metadata": {},
   "source": [
    "## Clearly errors in temp data"
   ]
  },
  {
   "cell_type": "code",
   "execution_count": 30,
   "metadata": {
    "scrolled": true
   },
   "outputs": [
    {
     "data": {
      "text/plain": [
       "Text(0, 0.5, 'Temp(C)')"
      ]
     },
     "execution_count": 30,
     "metadata": {},
     "output_type": "execute_result"
    },
    {
     "data": {
      "image/png": "[encoded data removed]",
      "text/plain": [
       "<Figure size 432x288 with 1 Axes>"
      ]
     },
     "metadata": {
      "needs_background": "light"
     },
     "output_type": "display_data"
    }
   ],
   "source": [
    "temp_pivot = data.pivot_table(index='temp', values=['all_users', 'casual', 'registered'], aggfunc='sum')\n",
    "temp_pivot.plot()\n",
    "plt.ylabel('Temp(C)')"
   ]
  },
  {
   "cell_type": "markdown",
   "metadata": {},
   "source": [
    "## Removing outliers"
   ]
  },
  {
   "cell_type": "code",
   "execution_count": 31,
   "metadata": {},
   "outputs": [],
   "source": [
    "std = data['temp'].std()\n",
    "mean = data['temp'].mean()"
   ]
  },
  {
   "cell_type": "code",
   "execution_count": 32,
   "metadata": {},
   "outputs": [
    {
     "data": {
      "text/plain": [
       "17513"
      ]
     },
     "execution_count": 32,
     "metadata": {},
     "output_type": "execute_result"
    }
   ],
   "source": [
    "len(data)"
   ]
  },
  {
   "cell_type": "code",
   "execution_count": 33,
   "metadata": {},
   "outputs": [
    {
     "data": {
      "text/plain": [
       "17459"
      ]
     },
     "execution_count": 33,
     "metadata": {},
     "output_type": "execute_result"
    }
   ],
   "source": [
    "data_copy = data.copy()\n",
    "std = data['temp'].std()\n",
    "mean = data['temp'].mean()\n",
    "count = 0\n",
    "for i in range(len(data)):\n",
    "    if data_copy['temp'][i] > (mean + 4*std):\n",
    "        data_copy.drop(i, inplace=True)\n",
    "        count += 1\n",
    "len(data_copy)"
   ]
  },
  {
   "cell_type": "code",
   "execution_count": 34,
   "metadata": {},
   "outputs": [
    {
     "data": {
      "text/plain": [
       "Text(0.5, 1.0, 'Rentals are higher in higher temperatures')"
      ]
     },
     "execution_count": 34,
     "metadata": {},
     "output_type": "execute_result"
    },
    {
     "data": {
      "image/png": "[encoded data removed]",
      "text/plain": [
       "<Figure size 432x288 with 1 Axes>"
      ]
     },
     "metadata": {
      "needs_background": "light"
     },
     "output_type": "display_data"
    }
   ],
   "source": [
    "data_copy.reset_index(drop=True, inplace=True)\n",
    "data = data_copy\n",
    "temp_pivot = data.pivot_table(index='temp', values=['all_users', 'casual', 'registered'])\n",
    "temp_pivot.plot()\n",
    "plt.xlabel('Temp(C)')\n",
    "plt.ylabel('Average hourly rentals')\n",
    "plt.title('Rentals are higher in higher temperatures')"
   ]
  },
  {
   "cell_type": "markdown",
   "metadata": {},
   "source": [
    "### Encoding categorical variables"
   ]
  },
  {
   "cell_type": "code",
   "execution_count": 35,
   "metadata": {},
   "outputs": [
    {
     "data": {
      "text/html": [
       "<div>\n",
       "<style scoped>\n",
       "    .dataframe tbody tr th:only-of-type {\n",
       "        vertical-align: middle;\n",
       "    }\n",
       "\n",
       "    .dataframe tbody tr th {\n",
       "        vertical-align: top;\n",
       "    }\n",
       "\n",
       "    .dataframe thead th {\n",
       "        text-align: right;\n",
       "    }\n",
       "</style>\n",
       "<table border=\"1\" class=\"dataframe\">\n",
       "  <thead>\n",
       "    <tr style=\"text-align: right;\">\n",
       "      <th></th>\n",
       "      <th>fall</th>\n",
       "      <th>spring</th>\n",
       "      <th>summer</th>\n",
       "      <th>winter</th>\n",
       "    </tr>\n",
       "  </thead>\n",
       "  <tbody>\n",
       "    <tr>\n",
       "      <th>0</th>\n",
       "      <td>0</td>\n",
       "      <td>0</td>\n",
       "      <td>0</td>\n",
       "      <td>1</td>\n",
       "    </tr>\n",
       "    <tr>\n",
       "      <th>1</th>\n",
       "      <td>0</td>\n",
       "      <td>0</td>\n",
       "      <td>1</td>\n",
       "      <td>0</td>\n",
       "    </tr>\n",
       "    <tr>\n",
       "      <th>2</th>\n",
       "      <td>1</td>\n",
       "      <td>0</td>\n",
       "      <td>0</td>\n",
       "      <td>0</td>\n",
       "    </tr>\n",
       "    <tr>\n",
       "      <th>3</th>\n",
       "      <td>1</td>\n",
       "      <td>0</td>\n",
       "      <td>0</td>\n",
       "      <td>0</td>\n",
       "    </tr>\n",
       "    <tr>\n",
       "      <th>4</th>\n",
       "      <td>0</td>\n",
       "      <td>0</td>\n",
       "      <td>1</td>\n",
       "      <td>0</td>\n",
       "    </tr>\n",
       "  </tbody>\n",
       "</table>\n",
       "</div>"
      ],
      "text/plain": [
       "   fall  spring  summer  winter\n",
       "0     0       0       0       1\n",
       "1     0       0       1       0\n",
       "2     1       0       0       0\n",
       "3     1       0       0       0\n",
       "4     0       0       1       0"
      ]
     },
     "execution_count": 35,
     "metadata": {},
     "output_type": "execute_result"
    }
   ],
   "source": [
    "data['season'].replace(to_replace={1:'winter', 2:'spring', 3:'summer', 4:'fall'}, inplace=True)\n",
    "season = data['season']\n",
    "season_encoded = pd.get_dummies(season)\n",
    "season_encoded.head()"
   ]
  },
  {
   "cell_type": "code",
   "execution_count": 36,
   "metadata": {},
   "outputs": [
    {
     "data": {
      "text/html": [
       "<div>\n",
       "<style scoped>\n",
       "    .dataframe tbody tr th:only-of-type {\n",
       "        vertical-align: middle;\n",
       "    }\n",
       "\n",
       "    .dataframe tbody tr th {\n",
       "        vertical-align: top;\n",
       "    }\n",
       "\n",
       "    .dataframe thead th {\n",
       "        text-align: right;\n",
       "    }\n",
       "</style>\n",
       "<table border=\"1\" class=\"dataframe\">\n",
       "  <thead>\n",
       "    <tr style=\"text-align: right;\">\n",
       "      <th></th>\n",
       "      <th>clear</th>\n",
       "      <th>mist</th>\n",
       "      <th>precipitation</th>\n",
       "    </tr>\n",
       "  </thead>\n",
       "  <tbody>\n",
       "    <tr>\n",
       "      <th>0</th>\n",
       "      <td>1</td>\n",
       "      <td>0</td>\n",
       "      <td>0</td>\n",
       "    </tr>\n",
       "    <tr>\n",
       "      <th>1</th>\n",
       "      <td>1</td>\n",
       "      <td>0</td>\n",
       "      <td>0</td>\n",
       "    </tr>\n",
       "    <tr>\n",
       "      <th>2</th>\n",
       "      <td>1</td>\n",
       "      <td>0</td>\n",
       "      <td>0</td>\n",
       "    </tr>\n",
       "    <tr>\n",
       "      <th>3</th>\n",
       "      <td>0</td>\n",
       "      <td>1</td>\n",
       "      <td>0</td>\n",
       "    </tr>\n",
       "    <tr>\n",
       "      <th>4</th>\n",
       "      <td>0</td>\n",
       "      <td>1</td>\n",
       "      <td>0</td>\n",
       "    </tr>\n",
       "  </tbody>\n",
       "</table>\n",
       "</div>"
      ],
      "text/plain": [
       "   clear  mist  precipitation\n",
       "0      1     0              0\n",
       "1      1     0              0\n",
       "2      1     0              0\n",
       "3      0     1              0\n",
       "4      0     1              0"
      ]
     },
     "execution_count": 36,
     "metadata": {},
     "output_type": "execute_result"
    }
   ],
   "source": [
    "#creating dummy variables for weather\n",
    "data['weather'].replace(to_replace={1:'clear', 2:'mist', 3:'precipitation'}, inplace=True)\n",
    "weather = data['weather']\n",
    "weather_encoded = pd.get_dummies(weather)\n",
    "weather_encoded.head()"
   ]
  },
  {
   "cell_type": "code",
   "execution_count": 37,
   "metadata": {},
   "outputs": [
    {
     "data": {
      "text/html": [
       "<div>\n",
       "<style scoped>\n",
       "    .dataframe tbody tr th:only-of-type {\n",
       "        vertical-align: middle;\n",
       "    }\n",
       "\n",
       "    .dataframe tbody tr th {\n",
       "        vertical-align: top;\n",
       "    }\n",
       "\n",
       "    .dataframe thead th {\n",
       "        text-align: right;\n",
       "    }\n",
       "</style>\n",
       "<table border=\"1\" class=\"dataframe\">\n",
       "  <thead>\n",
       "    <tr style=\"text-align: right;\">\n",
       "      <th></th>\n",
       "      <th>record number</th>\n",
       "      <th>datetime</th>\n",
       "      <th>season</th>\n",
       "      <th>holiday</th>\n",
       "      <th>weather</th>\n",
       "      <th>temp</th>\n",
       "      <th>humidity</th>\n",
       "      <th>windspeed</th>\n",
       "      <th>casual</th>\n",
       "      <th>registered</th>\n",
       "      <th>all_users</th>\n",
       "      <th>fall</th>\n",
       "      <th>spring</th>\n",
       "      <th>summer</th>\n",
       "      <th>winter</th>\n",
       "      <th>clear</th>\n",
       "      <th>mist</th>\n",
       "      <th>precipitation</th>\n",
       "    </tr>\n",
       "  </thead>\n",
       "  <tbody>\n",
       "    <tr>\n",
       "      <th>0</th>\n",
       "      <td>1</td>\n",
       "      <td>1/14/12 6:00</td>\n",
       "      <td>winter</td>\n",
       "      <td>0</td>\n",
       "      <td>clear</td>\n",
       "      <td>-2.0</td>\n",
       "      <td>50</td>\n",
       "      <td>0.0</td>\n",
       "      <td>0</td>\n",
       "      <td>5</td>\n",
       "      <td>5</td>\n",
       "      <td>0</td>\n",
       "      <td>0</td>\n",
       "      <td>0</td>\n",
       "      <td>1</td>\n",
       "      <td>1</td>\n",
       "      <td>0</td>\n",
       "      <td>0</td>\n",
       "    </tr>\n",
       "    <tr>\n",
       "      <th>1</th>\n",
       "      <td>2</td>\n",
       "      <td>7/24/11 4:00</td>\n",
       "      <td>summer</td>\n",
       "      <td>0</td>\n",
       "      <td>clear</td>\n",
       "      <td>30.0</td>\n",
       "      <td>66</td>\n",
       "      <td>7.0</td>\n",
       "      <td>1</td>\n",
       "      <td>5</td>\n",
       "      <td>6</td>\n",
       "      <td>0</td>\n",
       "      <td>0</td>\n",
       "      <td>1</td>\n",
       "      <td>0</td>\n",
       "      <td>1</td>\n",
       "      <td>0</td>\n",
       "      <td>0</td>\n",
       "    </tr>\n",
       "    <tr>\n",
       "      <th>2</th>\n",
       "      <td>3</td>\n",
       "      <td>10/9/11 7:00</td>\n",
       "      <td>fall</td>\n",
       "      <td>0</td>\n",
       "      <td>clear</td>\n",
       "      <td>13.0</td>\n",
       "      <td>86</td>\n",
       "      <td>0.0</td>\n",
       "      <td>18</td>\n",
       "      <td>26</td>\n",
       "      <td>44</td>\n",
       "      <td>1</td>\n",
       "      <td>0</td>\n",
       "      <td>0</td>\n",
       "      <td>0</td>\n",
       "      <td>1</td>\n",
       "      <td>0</td>\n",
       "      <td>0</td>\n",
       "    </tr>\n",
       "    <tr>\n",
       "      <th>3</th>\n",
       "      <td>4</td>\n",
       "      <td>12/12/12 21:00</td>\n",
       "      <td>fall</td>\n",
       "      <td>0</td>\n",
       "      <td>mist</td>\n",
       "      <td>6.0</td>\n",
       "      <td>52</td>\n",
       "      <td>17.0</td>\n",
       "      <td>16</td>\n",
       "      <td>186</td>\n",
       "      <td>202</td>\n",
       "      <td>1</td>\n",
       "      <td>0</td>\n",
       "      <td>0</td>\n",
       "      <td>0</td>\n",
       "      <td>0</td>\n",
       "      <td>1</td>\n",
       "      <td>0</td>\n",
       "    </tr>\n",
       "    <tr>\n",
       "      <th>4</th>\n",
       "      <td>5</td>\n",
       "      <td>6/22/11 13:00</td>\n",
       "      <td>summer</td>\n",
       "      <td>0</td>\n",
       "      <td>mist</td>\n",
       "      <td>32.0</td>\n",
       "      <td>56</td>\n",
       "      <td>17.0</td>\n",
       "      <td>33</td>\n",
       "      <td>112</td>\n",
       "      <td>145</td>\n",
       "      <td>0</td>\n",
       "      <td>0</td>\n",
       "      <td>1</td>\n",
       "      <td>0</td>\n",
       "      <td>0</td>\n",
       "      <td>1</td>\n",
       "      <td>0</td>\n",
       "    </tr>\n",
       "  </tbody>\n",
       "</table>\n",
       "</div>"
      ],
      "text/plain": [
       "   record number        datetime  season  holiday weather  temp  humidity  \\\n",
       "0              1    1/14/12 6:00  winter        0   clear  -2.0        50   \n",
       "1              2    7/24/11 4:00  summer        0   clear  30.0        66   \n",
       "2              3    10/9/11 7:00    fall        0   clear  13.0        86   \n",
       "3              4  12/12/12 21:00    fall        0    mist   6.0        52   \n",
       "4              5   6/22/11 13:00  summer        0    mist  32.0        56   \n",
       "\n",
       "   windspeed  casual  registered  all_users  fall  spring  summer  winter  \\\n",
       "0        0.0       0           5          5     0       0       0       1   \n",
       "1        7.0       1           5          6     0       0       1       0   \n",
       "2        0.0      18          26         44     1       0       0       0   \n",
       "3       17.0      16         186        202     1       0       0       0   \n",
       "4       17.0      33         112        145     0       0       1       0   \n",
       "\n",
       "   clear  mist  precipitation  \n",
       "0      1     0              0  \n",
       "1      1     0              0  \n",
       "2      1     0              0  \n",
       "3      0     1              0  \n",
       "4      0     1              0  "
      ]
     },
     "execution_count": 37,
     "metadata": {},
     "output_type": "execute_result"
    }
   ],
   "source": [
    "joined = season_encoded.join(weather_encoded)\n",
    "processed_data = data.join(joined)\n",
    "processed_data.head()"
   ]
  },
  {
   "cell_type": "markdown",
   "metadata": {},
   "source": [
    "### convert datetime strings into timestamps"
   ]
  },
  {
   "cell_type": "code",
   "execution_count": 38,
   "metadata": {},
   "outputs": [],
   "source": [
    "def str_to_date(date):\n",
    "    format = '%m/%d/%y %H:%M'\n",
    "    if type(date) != str:\n",
    "        return date\n",
    "    else:\n",
    "        return dt.datetime.strptime(date, format)"
   ]
  },
  {
   "cell_type": "code",
   "execution_count": 39,
   "metadata": {},
   "outputs": [],
   "source": [
    "dates = processed_data['datetime'].map(str_to_date)\n",
    "processed_data['datetime'] = dates"
   ]
  },
  {
   "cell_type": "markdown",
   "metadata": {},
   "source": [
    "### creating day of week column"
   ]
  },
  {
   "cell_type": "code",
   "execution_count": 40,
   "metadata": {},
   "outputs": [],
   "source": [
    "def find_day_of_week(date):\n",
    "    return calendar.weekday(date.year, date.month, date.day)"
   ]
  },
  {
   "cell_type": "code",
   "execution_count": 41,
   "metadata": {},
   "outputs": [
    {
     "data": {
      "text/html": [
       "<div>\n",
       "<style scoped>\n",
       "    .dataframe tbody tr th:only-of-type {\n",
       "        vertical-align: middle;\n",
       "    }\n",
       "\n",
       "    .dataframe tbody tr th {\n",
       "        vertical-align: top;\n",
       "    }\n",
       "\n",
       "    .dataframe thead th {\n",
       "        text-align: right;\n",
       "    }\n",
       "</style>\n",
       "<table border=\"1\" class=\"dataframe\">\n",
       "  <thead>\n",
       "    <tr style=\"text-align: right;\">\n",
       "      <th></th>\n",
       "      <th>record number</th>\n",
       "      <th>datetime</th>\n",
       "      <th>season</th>\n",
       "      <th>holiday</th>\n",
       "      <th>weather</th>\n",
       "      <th>temp</th>\n",
       "      <th>humidity</th>\n",
       "      <th>windspeed</th>\n",
       "      <th>casual</th>\n",
       "      <th>registered</th>\n",
       "      <th>all_users</th>\n",
       "      <th>fall</th>\n",
       "      <th>spring</th>\n",
       "      <th>summer</th>\n",
       "      <th>winter</th>\n",
       "      <th>clear</th>\n",
       "      <th>mist</th>\n",
       "      <th>precipitation</th>\n",
       "      <th>day_of_week</th>\n",
       "    </tr>\n",
       "  </thead>\n",
       "  <tbody>\n",
       "    <tr>\n",
       "      <th>0</th>\n",
       "      <td>1</td>\n",
       "      <td>2012-01-14 06:00:00</td>\n",
       "      <td>winter</td>\n",
       "      <td>0</td>\n",
       "      <td>clear</td>\n",
       "      <td>-2.0</td>\n",
       "      <td>50</td>\n",
       "      <td>0.0</td>\n",
       "      <td>0</td>\n",
       "      <td>5</td>\n",
       "      <td>5</td>\n",
       "      <td>0</td>\n",
       "      <td>0</td>\n",
       "      <td>0</td>\n",
       "      <td>1</td>\n",
       "      <td>1</td>\n",
       "      <td>0</td>\n",
       "      <td>0</td>\n",
       "      <td>Saturday</td>\n",
       "    </tr>\n",
       "    <tr>\n",
       "      <th>1</th>\n",
       "      <td>2</td>\n",
       "      <td>2011-07-24 04:00:00</td>\n",
       "      <td>summer</td>\n",
       "      <td>0</td>\n",
       "      <td>clear</td>\n",
       "      <td>30.0</td>\n",
       "      <td>66</td>\n",
       "      <td>7.0</td>\n",
       "      <td>1</td>\n",
       "      <td>5</td>\n",
       "      <td>6</td>\n",
       "      <td>0</td>\n",
       "      <td>0</td>\n",
       "      <td>1</td>\n",
       "      <td>0</td>\n",
       "      <td>1</td>\n",
       "      <td>0</td>\n",
       "      <td>0</td>\n",
       "      <td>Sunday</td>\n",
       "    </tr>\n",
       "    <tr>\n",
       "      <th>2</th>\n",
       "      <td>3</td>\n",
       "      <td>2011-10-09 07:00:00</td>\n",
       "      <td>fall</td>\n",
       "      <td>0</td>\n",
       "      <td>clear</td>\n",
       "      <td>13.0</td>\n",
       "      <td>86</td>\n",
       "      <td>0.0</td>\n",
       "      <td>18</td>\n",
       "      <td>26</td>\n",
       "      <td>44</td>\n",
       "      <td>1</td>\n",
       "      <td>0</td>\n",
       "      <td>0</td>\n",
       "      <td>0</td>\n",
       "      <td>1</td>\n",
       "      <td>0</td>\n",
       "      <td>0</td>\n",
       "      <td>Sunday</td>\n",
       "    </tr>\n",
       "    <tr>\n",
       "      <th>3</th>\n",
       "      <td>4</td>\n",
       "      <td>2012-12-12 21:00:00</td>\n",
       "      <td>fall</td>\n",
       "      <td>0</td>\n",
       "      <td>mist</td>\n",
       "      <td>6.0</td>\n",
       "      <td>52</td>\n",
       "      <td>17.0</td>\n",
       "      <td>16</td>\n",
       "      <td>186</td>\n",
       "      <td>202</td>\n",
       "      <td>1</td>\n",
       "      <td>0</td>\n",
       "      <td>0</td>\n",
       "      <td>0</td>\n",
       "      <td>0</td>\n",
       "      <td>1</td>\n",
       "      <td>0</td>\n",
       "      <td>Wednesday</td>\n",
       "    </tr>\n",
       "    <tr>\n",
       "      <th>4</th>\n",
       "      <td>5</td>\n",
       "      <td>2011-06-22 13:00:00</td>\n",
       "      <td>summer</td>\n",
       "      <td>0</td>\n",
       "      <td>mist</td>\n",
       "      <td>32.0</td>\n",
       "      <td>56</td>\n",
       "      <td>17.0</td>\n",
       "      <td>33</td>\n",
       "      <td>112</td>\n",
       "      <td>145</td>\n",
       "      <td>0</td>\n",
       "      <td>0</td>\n",
       "      <td>1</td>\n",
       "      <td>0</td>\n",
       "      <td>0</td>\n",
       "      <td>1</td>\n",
       "      <td>0</td>\n",
       "      <td>Wednesday</td>\n",
       "    </tr>\n",
       "    <tr>\n",
       "      <th>5</th>\n",
       "      <td>6</td>\n",
       "      <td>2011-08-24 18:00:00</td>\n",
       "      <td>summer</td>\n",
       "      <td>0</td>\n",
       "      <td>clear</td>\n",
       "      <td>28.0</td>\n",
       "      <td>55</td>\n",
       "      <td>20.0</td>\n",
       "      <td>102</td>\n",
       "      <td>518</td>\n",
       "      <td>620</td>\n",
       "      <td>0</td>\n",
       "      <td>0</td>\n",
       "      <td>1</td>\n",
       "      <td>0</td>\n",
       "      <td>1</td>\n",
       "      <td>0</td>\n",
       "      <td>0</td>\n",
       "      <td>Wednesday</td>\n",
       "    </tr>\n",
       "    <tr>\n",
       "      <th>6</th>\n",
       "      <td>7</td>\n",
       "      <td>2012-01-01 20:00:00</td>\n",
       "      <td>winter</td>\n",
       "      <td>0</td>\n",
       "      <td>mist</td>\n",
       "      <td>13.0</td>\n",
       "      <td>62</td>\n",
       "      <td>20.0</td>\n",
       "      <td>25</td>\n",
       "      <td>58</td>\n",
       "      <td>83</td>\n",
       "      <td>0</td>\n",
       "      <td>0</td>\n",
       "      <td>0</td>\n",
       "      <td>1</td>\n",
       "      <td>0</td>\n",
       "      <td>1</td>\n",
       "      <td>0</td>\n",
       "      <td>Sunday</td>\n",
       "    </tr>\n",
       "    <tr>\n",
       "      <th>7</th>\n",
       "      <td>8</td>\n",
       "      <td>2011-04-07 15:00:00</td>\n",
       "      <td>spring</td>\n",
       "      <td>0</td>\n",
       "      <td>clear</td>\n",
       "      <td>21.0</td>\n",
       "      <td>38</td>\n",
       "      <td>7.0</td>\n",
       "      <td>27</td>\n",
       "      <td>133</td>\n",
       "      <td>160</td>\n",
       "      <td>0</td>\n",
       "      <td>1</td>\n",
       "      <td>0</td>\n",
       "      <td>0</td>\n",
       "      <td>1</td>\n",
       "      <td>0</td>\n",
       "      <td>0</td>\n",
       "      <td>Thursday</td>\n",
       "    </tr>\n",
       "    <tr>\n",
       "      <th>8</th>\n",
       "      <td>9</td>\n",
       "      <td>2012-09-25 18:00:00</td>\n",
       "      <td>fall</td>\n",
       "      <td>0</td>\n",
       "      <td>clear</td>\n",
       "      <td>23.0</td>\n",
       "      <td>41</td>\n",
       "      <td>15.0</td>\n",
       "      <td>64</td>\n",
       "      <td>758</td>\n",
       "      <td>822</td>\n",
       "      <td>1</td>\n",
       "      <td>0</td>\n",
       "      <td>0</td>\n",
       "      <td>0</td>\n",
       "      <td>1</td>\n",
       "      <td>0</td>\n",
       "      <td>0</td>\n",
       "      <td>Tuesday</td>\n",
       "    </tr>\n",
       "    <tr>\n",
       "      <th>9</th>\n",
       "      <td>10</td>\n",
       "      <td>2012-08-01 04:00:00</td>\n",
       "      <td>summer</td>\n",
       "      <td>0</td>\n",
       "      <td>mist</td>\n",
       "      <td>23.0</td>\n",
       "      <td>78</td>\n",
       "      <td>9.0</td>\n",
       "      <td>1</td>\n",
       "      <td>3</td>\n",
       "      <td>4</td>\n",
       "      <td>0</td>\n",
       "      <td>0</td>\n",
       "      <td>1</td>\n",
       "      <td>0</td>\n",
       "      <td>0</td>\n",
       "      <td>1</td>\n",
       "      <td>0</td>\n",
       "      <td>Wednesday</td>\n",
       "    </tr>\n",
       "  </tbody>\n",
       "</table>\n",
       "</div>"
      ],
      "text/plain": [
       "   record number            datetime  season  holiday weather  temp  humidity  \\\n",
       "0              1 2012-01-14 06:00:00  winter        0   clear  -2.0        50   \n",
       "1              2 2011-07-24 04:00:00  summer        0   clear  30.0        66   \n",
       "2              3 2011-10-09 07:00:00    fall        0   clear  13.0        86   \n",
       "3              4 2012-12-12 21:00:00    fall        0    mist   6.0        52   \n",
       "4              5 2011-06-22 13:00:00  summer        0    mist  32.0        56   \n",
       "5              6 2011-08-24 18:00:00  summer        0   clear  28.0        55   \n",
       "6              7 2012-01-01 20:00:00  winter        0    mist  13.0        62   \n",
       "7              8 2011-04-07 15:00:00  spring        0   clear  21.0        38   \n",
       "8              9 2012-09-25 18:00:00    fall        0   clear  23.0        41   \n",
       "9             10 2012-08-01 04:00:00  summer        0    mist  23.0        78   \n",
       "\n",
       "   windspeed  casual  registered  all_users  fall  spring  summer  winter  \\\n",
       "0        0.0       0           5          5     0       0       0       1   \n",
       "1        7.0       1           5          6     0       0       1       0   \n",
       "2        0.0      18          26         44     1       0       0       0   \n",
       "3       17.0      16         186        202     1       0       0       0   \n",
       "4       17.0      33         112        145     0       0       1       0   \n",
       "5       20.0     102         518        620     0       0       1       0   \n",
       "6       20.0      25          58         83     0       0       0       1   \n",
       "7        7.0      27         133        160     0       1       0       0   \n",
       "8       15.0      64         758        822     1       0       0       0   \n",
       "9        9.0       1           3          4     0       0       1       0   \n",
       "\n",
       "   clear  mist  precipitation day_of_week  \n",
       "0      1     0              0    Saturday  \n",
       "1      1     0              0      Sunday  \n",
       "2      1     0              0      Sunday  \n",
       "3      0     1              0   Wednesday  \n",
       "4      0     1              0   Wednesday  \n",
       "5      1     0              0   Wednesday  \n",
       "6      0     1              0      Sunday  \n",
       "7      1     0              0    Thursday  \n",
       "8      1     0              0     Tuesday  \n",
       "9      0     1              0   Wednesday  "
      ]
     },
     "execution_count": 41,
     "metadata": {},
     "output_type": "execute_result"
    }
   ],
   "source": [
    "day_of_week = processed_data['datetime'].map(find_day_of_week)\n",
    "processed_data['day_of_week'] = day_of_week\n",
    "processed_data['day_of_week'].replace(to_replace={0:'Monday', 1:'Tuesday', 2:'Wednesday', 3:'Thursday', 4:'Friday', 5:'Saturday', 6:'Sunday'}, inplace=True)\n",
    "day_of_week = processed_data['day_of_week']\n",
    "day_of_week_encoded = pd.get_dummies(day_of_week)\n",
    "#processed_data = processed_data.join(day_of_week_encoded)\n",
    "processed_data.head(10)\n"
   ]
  },
  {
   "cell_type": "markdown",
   "metadata": {},
   "source": [
    "### creating hour of day column"
   ]
  },
  {
   "cell_type": "code",
   "execution_count": 131,
   "metadata": {},
   "outputs": [
    {
     "data": {
      "text/html": [
       "<div>\n",
       "<style scoped>\n",
       "    .dataframe tbody tr th:only-of-type {\n",
       "        vertical-align: middle;\n",
       "    }\n",
       "\n",
       "    .dataframe tbody tr th {\n",
       "        vertical-align: top;\n",
       "    }\n",
       "\n",
       "    .dataframe thead th {\n",
       "        text-align: right;\n",
       "    }\n",
       "</style>\n",
       "<table border=\"1\" class=\"dataframe\">\n",
       "  <thead>\n",
       "    <tr style=\"text-align: right;\">\n",
       "      <th></th>\n",
       "      <th>record number</th>\n",
       "      <th>datetime</th>\n",
       "      <th>season</th>\n",
       "      <th>holiday</th>\n",
       "      <th>weather</th>\n",
       "      <th>temp</th>\n",
       "      <th>humidity</th>\n",
       "      <th>windspeed</th>\n",
       "      <th>casual</th>\n",
       "      <th>registered</th>\n",
       "      <th>all_users</th>\n",
       "      <th>fall</th>\n",
       "      <th>spring</th>\n",
       "      <th>summer</th>\n",
       "      <th>winter</th>\n",
       "      <th>clear</th>\n",
       "      <th>mist</th>\n",
       "      <th>precipitation</th>\n",
       "      <th>day_of_week</th>\n",
       "      <th>hour</th>\n",
       "    </tr>\n",
       "  </thead>\n",
       "  <tbody>\n",
       "    <tr>\n",
       "      <th>0</th>\n",
       "      <td>1</td>\n",
       "      <td>2012-01-14 06:00:00</td>\n",
       "      <td>winter</td>\n",
       "      <td>0</td>\n",
       "      <td>clear</td>\n",
       "      <td>-2.0</td>\n",
       "      <td>50</td>\n",
       "      <td>0.0</td>\n",
       "      <td>0</td>\n",
       "      <td>5</td>\n",
       "      <td>5</td>\n",
       "      <td>0</td>\n",
       "      <td>0</td>\n",
       "      <td>0</td>\n",
       "      <td>1</td>\n",
       "      <td>1</td>\n",
       "      <td>0</td>\n",
       "      <td>0</td>\n",
       "      <td>Saturday</td>\n",
       "      <td>6</td>\n",
       "    </tr>\n",
       "    <tr>\n",
       "      <th>1</th>\n",
       "      <td>2</td>\n",
       "      <td>2011-07-24 04:00:00</td>\n",
       "      <td>summer</td>\n",
       "      <td>0</td>\n",
       "      <td>clear</td>\n",
       "      <td>30.0</td>\n",
       "      <td>66</td>\n",
       "      <td>7.0</td>\n",
       "      <td>1</td>\n",
       "      <td>5</td>\n",
       "      <td>6</td>\n",
       "      <td>0</td>\n",
       "      <td>0</td>\n",
       "      <td>1</td>\n",
       "      <td>0</td>\n",
       "      <td>1</td>\n",
       "      <td>0</td>\n",
       "      <td>0</td>\n",
       "      <td>Sunday</td>\n",
       "      <td>4</td>\n",
       "    </tr>\n",
       "    <tr>\n",
       "      <th>2</th>\n",
       "      <td>3</td>\n",
       "      <td>2011-10-09 07:00:00</td>\n",
       "      <td>fall</td>\n",
       "      <td>0</td>\n",
       "      <td>clear</td>\n",
       "      <td>13.0</td>\n",
       "      <td>86</td>\n",
       "      <td>0.0</td>\n",
       "      <td>18</td>\n",
       "      <td>26</td>\n",
       "      <td>44</td>\n",
       "      <td>1</td>\n",
       "      <td>0</td>\n",
       "      <td>0</td>\n",
       "      <td>0</td>\n",
       "      <td>1</td>\n",
       "      <td>0</td>\n",
       "      <td>0</td>\n",
       "      <td>Sunday</td>\n",
       "      <td>7</td>\n",
       "    </tr>\n",
       "    <tr>\n",
       "      <th>3</th>\n",
       "      <td>4</td>\n",
       "      <td>2012-12-12 21:00:00</td>\n",
       "      <td>fall</td>\n",
       "      <td>0</td>\n",
       "      <td>mist</td>\n",
       "      <td>6.0</td>\n",
       "      <td>52</td>\n",
       "      <td>17.0</td>\n",
       "      <td>16</td>\n",
       "      <td>186</td>\n",
       "      <td>202</td>\n",
       "      <td>1</td>\n",
       "      <td>0</td>\n",
       "      <td>0</td>\n",
       "      <td>0</td>\n",
       "      <td>0</td>\n",
       "      <td>1</td>\n",
       "      <td>0</td>\n",
       "      <td>Wednesday</td>\n",
       "      <td>21</td>\n",
       "    </tr>\n",
       "    <tr>\n",
       "      <th>4</th>\n",
       "      <td>5</td>\n",
       "      <td>2011-06-22 13:00:00</td>\n",
       "      <td>summer</td>\n",
       "      <td>0</td>\n",
       "      <td>mist</td>\n",
       "      <td>32.0</td>\n",
       "      <td>56</td>\n",
       "      <td>17.0</td>\n",
       "      <td>33</td>\n",
       "      <td>112</td>\n",
       "      <td>145</td>\n",
       "      <td>0</td>\n",
       "      <td>0</td>\n",
       "      <td>1</td>\n",
       "      <td>0</td>\n",
       "      <td>0</td>\n",
       "      <td>1</td>\n",
       "      <td>0</td>\n",
       "      <td>Wednesday</td>\n",
       "      <td>13</td>\n",
       "    </tr>\n",
       "  </tbody>\n",
       "</table>\n",
       "</div>"
      ],
      "text/plain": [
       "   record number            datetime  season  holiday weather  temp  humidity  \\\n",
       "0              1 2012-01-14 06:00:00  winter        0   clear  -2.0        50   \n",
       "1              2 2011-07-24 04:00:00  summer        0   clear  30.0        66   \n",
       "2              3 2011-10-09 07:00:00    fall        0   clear  13.0        86   \n",
       "3              4 2012-12-12 21:00:00    fall        0    mist   6.0        52   \n",
       "4              5 2011-06-22 13:00:00  summer        0    mist  32.0        56   \n",
       "\n",
       "   windspeed  casual  registered  all_users  fall  spring  summer  winter  \\\n",
       "0        0.0       0           5          5     0       0       0       1   \n",
       "1        7.0       1           5          6     0       0       1       0   \n",
       "2        0.0      18          26         44     1       0       0       0   \n",
       "3       17.0      16         186        202     1       0       0       0   \n",
       "4       17.0      33         112        145     0       0       1       0   \n",
       "\n",
       "   clear  mist  precipitation day_of_week  hour  \n",
       "0      1     0              0    Saturday     6  \n",
       "1      1     0              0      Sunday     4  \n",
       "2      1     0              0      Sunday     7  \n",
       "3      0     1              0   Wednesday    21  \n",
       "4      0     1              0   Wednesday    13  "
      ]
     },
     "execution_count": 131,
     "metadata": {},
     "output_type": "execute_result"
    }
   ],
   "source": [
    "hour = processed_data['datetime'].map(lambda x:x.hour)\n",
    "processed_data['hour'] = hour\n",
    "processed_data.head()"
   ]
  },
  {
   "cell_type": "markdown",
   "metadata": {},
   "source": [
    "### time of day's affect on rentals"
   ]
  },
  {
   "cell_type": "code",
   "execution_count": 133,
   "metadata": {},
   "outputs": [
    {
     "data": {
      "text/plain": [
       "([<matplotlib.axis.XTick at 0x1a267cf240>,\n",
       "  <matplotlib.axis.XTick at 0x1a267cf748>,\n",
       "  <matplotlib.axis.XTick at 0x1a26822ef0>,\n",
       "  <matplotlib.axis.XTick at 0x1a26b2b908>,\n",
       "  <matplotlib.axis.XTick at 0x1a26b2bef0>,\n",
       "  <matplotlib.axis.XTick at 0x1a1f5854a8>,\n",
       "  <matplotlib.axis.XTick at 0x1a26502a58>,\n",
       "  <matplotlib.axis.XTick at 0x1a1f57b5f8>,\n",
       "  <matplotlib.axis.XTick at 0x1a1f57b940>,\n",
       "  <matplotlib.axis.XTick at 0x1a1f57be80>,\n",
       "  <matplotlib.axis.XTick at 0x1a26699438>,\n",
       "  <matplotlib.axis.XTick at 0x1a266999b0>,\n",
       "  <matplotlib.axis.XTick at 0x1a1f57b9e8>,\n",
       "  <matplotlib.axis.XTick at 0x1a1f5817b8>,\n",
       "  <matplotlib.axis.XTick at 0x1a26699908>,\n",
       "  <matplotlib.axis.XTick at 0x1a2669e198>,\n",
       "  <matplotlib.axis.XTick at 0x1a2669e6d8>,\n",
       "  <matplotlib.axis.XTick at 0x1a2669ec50>,\n",
       "  <matplotlib.axis.XTick at 0x1a266b0208>,\n",
       "  <matplotlib.axis.XTick at 0x1a266b0780>,\n",
       "  <matplotlib.axis.XTick at 0x1a266b0cf8>,\n",
       "  <matplotlib.axis.XTick at 0x1a266b0588>,\n",
       "  <matplotlib.axis.XTick at 0x1a2669e7b8>,\n",
       "  <matplotlib.axis.XTick at 0x1a1f581748>],\n",
       " <a list of 24 Text xticklabel objects>)"
      ]
     },
     "execution_count": 133,
     "metadata": {},
     "output_type": "execute_result"
    },
    {
     "data": {
      "image/png": "[encoded data removed]",
      "text/plain": [
       "<Figure size 432x288 with 1 Axes>"
      ]
     },
     "metadata": {
      "needs_background": "light"
     },
     "output_type": "display_data"
    }
   ],
   "source": [
    "hour_pivot = processed_data.pivot_table(index='hour', values=['all_users', 'registered', 'casual'])\n",
    "hour_pivot.plot()\n",
    "plt.xlabel('Hour of day')\n",
    "plt.ylabel('Average hourly rentals')\n",
    "ticks = ['12', '1', '2', '3', '4', '5', '6', '7', '8', '9','10', '11', \n",
    "         'noon', '1', '2', '3', '4', '5', '6', '7', '8', \n",
    "         '9', '10', '11']\n",
    "plt.xticks(np.arange(0,24, step=1), labels =ticks)"
   ]
  },
  {
   "cell_type": "markdown",
   "metadata": {},
   "source": [
    "## casual users rent more on weekends registered rent less"
   ]
  },
  {
   "cell_type": "code",
   "execution_count": 134,
   "metadata": {},
   "outputs": [
    {
     "data": {
      "text/plain": [
       "<matplotlib.axes._subplots.AxesSubplot at 0x1a2679f630>"
      ]
     },
     "execution_count": 134,
     "metadata": {},
     "output_type": "execute_result"
    },
    {
     "data": {
      "image/png": "[encoded data removed]",
      "text/plain": [
       "<Figure size 432x288 with 1 Axes>"
      ]
     },
     "metadata": {},
     "output_type": "display_data"
    }
   ],
   "source": [
    "style.use('ggplot')\n",
    "day_order = [\"Monday\", \"Tuesday\", \"Wednesday\", \"Thursday\", \"Friday\", \"Saturday\", \"Sunday\"]\n",
    "day_of_week_pivot = processed_data.pivot_table(index='day_of_week', values=['all_users', 'casual', 'registered'], aggfunc='sum')\n",
    "day_of_week_pivot.loc[day_order].plot()\n"
   ]
  },
  {
   "cell_type": "markdown",
   "metadata": {},
   "source": [
    "### season's affect on rentals"
   ]
  },
  {
   "cell_type": "code",
   "execution_count": 135,
   "metadata": {},
   "outputs": [
    {
     "data": {
      "text/plain": [
       "Text(0, 0.5, 'rentals')"
      ]
     },
     "execution_count": 135,
     "metadata": {},
     "output_type": "execute_result"
    },
    {
     "data": {
      "image/png": "[encoded data removed]",
      "text/plain": [
       "<Figure size 432x288 with 1 Axes>"
      ]
     },
     "metadata": {},
     "output_type": "display_data"
    }
   ],
   "source": [
    "season_pivot = processed_data.pivot_table(index='season', values=['all_users', 'registered', 'casual'], aggfunc='sum')\n",
    "season_pivot.plot.bar()\n",
    "plt.ylabel('rentals')"
   ]
  },
  {
   "cell_type": "markdown",
   "metadata": {},
   "source": [
    "### Weather's affect on rentals"
   ]
  },
  {
   "cell_type": "code",
   "execution_count": 136,
   "metadata": {},
   "outputs": [
    {
     "data": {
      "text/plain": [
       "Text(0.5, 1.0, 'Rentals are lower when there is precipitation')"
      ]
     },
     "execution_count": 136,
     "metadata": {},
     "output_type": "execute_result"
    },
    {
     "data": {
      "image/png": "[encoded data removed]",
      "text/plain": [
       "<Figure size 432x288 with 1 Axes>"
      ]
     },
     "metadata": {},
     "output_type": "display_data"
    }
   ],
   "source": [
    "weather_pivot = processed_data.pivot_table(index='weather', values=['all_users', 'casual', 'registered'])\n",
    "weather_pivot.plot.bar()\n",
    "plt.ylabel('Average hourly rentals')\n",
    "plt.title('Rentals are lower when there is precipitation')"
   ]
  },
  {
   "cell_type": "markdown",
   "metadata": {},
   "source": [
    "# Analysis of all user type rentals"
   ]
  },
  {
   "cell_type": "markdown",
   "metadata": {},
   "source": [
    "### splitting data into train and test"
   ]
  },
  {
   "cell_type": "code",
   "execution_count": 138,
   "metadata": {},
   "outputs": [],
   "source": [
    "X_num = processed_data[['temp', 'windspeed', 'holiday', 'hour']].copy()\n",
    "X_final = X_num.join([day_of_week_encoded, season_encoded, weather_encoded])\n",
    "y_final = processed_data['all_users'].copy()\n",
    "\n",
    "X_train, X_test, y_train, y_test = train_test_split(X_final, y_final, test_size = 0.33, random_state = 0 )"
   ]
  },
  {
   "cell_type": "code",
   "execution_count": 139,
   "metadata": {},
   "outputs": [
    {
     "data": {
      "text/plain": [
       "11697"
      ]
     },
     "execution_count": 139,
     "metadata": {},
     "output_type": "execute_result"
    }
   ],
   "source": [
    "len(X_train)"
   ]
  },
  {
   "cell_type": "code",
   "execution_count": 140,
   "metadata": {},
   "outputs": [
    {
     "data": {
      "text/plain": [
       "5762"
      ]
     },
     "execution_count": 140,
     "metadata": {},
     "output_type": "execute_result"
    }
   ],
   "source": [
    "len(X_test)"
   ]
  },
  {
   "cell_type": "code",
   "execution_count": 141,
   "metadata": {},
   "outputs": [
    {
     "data": {
      "text/plain": [
       "11697"
      ]
     },
     "execution_count": 141,
     "metadata": {},
     "output_type": "execute_result"
    }
   ],
   "source": [
    "len(y_train)"
   ]
  },
  {
   "cell_type": "code",
   "execution_count": 142,
   "metadata": {},
   "outputs": [
    {
     "data": {
      "text/plain": [
       "5762"
      ]
     },
     "execution_count": 142,
     "metadata": {},
     "output_type": "execute_result"
    }
   ],
   "source": [
    "len(y_test)"
   ]
  },
  {
   "cell_type": "markdown",
   "metadata": {},
   "source": [
    "### scaling data"
   ]
  },
  {
   "cell_type": "code",
   "execution_count": 143,
   "metadata": {},
   "outputs": [],
   "source": [
    "s_scaler = StandardScaler()\n",
    "X_train = s_scaler.fit_transform(X_train.astype(np.float))\n",
    "X_test= s_scaler.transform(X_test.astype(np.float))"
   ]
  },
  {
   "cell_type": "markdown",
   "metadata": {},
   "source": [
    "### fitting data to linear regression"
   ]
  },
  {
   "cell_type": "code",
   "execution_count": 144,
   "metadata": {},
   "outputs": [],
   "source": [
    "lr = LinearRegression().fit(X_train,y_train)\n",
    "y_train_pred = lr.predict(X_train)\n",
    "y_test_pred = lr.predict(X_test)\n"
   ]
  },
  {
   "cell_type": "code",
   "execution_count": 145,
   "metadata": {},
   "outputs": [
    {
     "name": "stdout",
     "output_type": "stream",
     "text": [
      "lr.coef_: [ 7.93761705e+01  1.12980001e+01 -3.80036282e+00  5.95404588e+01\n",
      "  3.95832289e+13  3.96426258e+13  3.95832289e+13  3.95931405e+13\n",
      "  4.00245002e+13  3.93037209e+13  3.97608984e+13 -8.32780919e+14\n",
      " -8.42936359e+14 -8.41169141e+14 -8.30237635e+14  4.25088009e+14\n",
      "  3.93158899e+14  2.46176397e+14]\n",
      "lr.intercept_: 189.145382417729\n",
      "lr train score 0.318, lr test score: 0.317\n"
     ]
    }
   ],
   "source": [
    "print(\"lr.coef_: {}\".format(lr.coef_))\n",
    "print(\"lr.intercept_: {}\".format(lr.intercept_))\n",
    "print('lr train score %.3f, lr test score: %.3f' % (\n",
    "lr.score(X_train,y_train),\n",
    "lr.score(X_test, y_test)))"
   ]
  },
  {
   "cell_type": "markdown",
   "metadata": {},
   "source": [
    "### fitting data to a random forest regression"
   ]
  },
  {
   "cell_type": "code",
   "execution_count": 146,
   "metadata": {},
   "outputs": [],
   "source": [
    "forest = RandomForestRegressor(n_estimators = 100,\n",
    "                              criterion = 'mse',\n",
    "                              random_state = 1,\n",
    "                              n_jobs = -1)"
   ]
  },
  {
   "cell_type": "code",
   "execution_count": 147,
   "metadata": {},
   "outputs": [],
   "source": [
    "forest.fit(X_train,y_train.values.ravel())\n",
    "y_train_pred = forest.predict(X_train)\n",
    "y_test_pred = forest.predict(X_test)"
   ]
  },
  {
   "cell_type": "code",
   "execution_count": 148,
   "metadata": {},
   "outputs": [
    {
     "name": "stdout",
     "output_type": "stream",
     "text": [
      "forest train score 0.973, forest test score: 0.820\n"
     ]
    }
   ],
   "source": [
    "print('forest train score %.3f, forest test score: %.3f' % (\n",
    "forest.score(X_train,y_train),\n",
    "forest.score(X_test, y_test)))"
   ]
  }
 ],
 "metadata": {
  "kernelspec": {
   "display_name": "Python 3",
   "language": "python",
   "name": "python3"
  },
  "language_info": {
   "codemirror_mode": {
    "name": "ipython",
    "version": 3
   },
   "file_extension": ".py",
   "mimetype": "text/x-python",
   "name": "python",
   "nbconvert_exporter": "python",
   "pygments_lexer": "ipython3",
   "version": "3.7.3"
  }
 },
 "nbformat": 4,
 "nbformat_minor": 2
}
